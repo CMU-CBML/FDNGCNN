{
 "cells": [
  {
   "cell_type": "code",
   "execution_count": 7,
   "metadata": {},
   "outputs": [],
   "source": [
    "import torch\n",
    "import torch.nn as nn\n",
    "\n",
    "drop_rate = 0\n",
    "a_en = nn.Sequential(\n",
    "        nn.Conv2d(3, 84, 4, stride=2, padding=1),  # b, 84, 11, 11\n",
    "        nn.BatchNorm2d(84),\n",
    "        nn.ReLU(True),\n",
    "        nn.Dropout(drop_rate) ,\n",
    "\n",
    "        nn.Conv2d(84, 168, 4, stride=2, padding=1),  # b, 168, 6, 6\n",
    "        nn.BatchNorm2d(168),\n",
    "        nn.ReLU(True),\n",
    "        nn.Dropout(drop_rate) ,\n",
    "\n",
    "        nn.MaxPool2d(2, stride=1),  # b, 168, 5, 5\n",
    "        nn.Conv2d(168, 336, 4, stride=2, padding=1),  # b, 336, 3, 3\n",
    "        nn.BatchNorm2d(336),\n",
    "        nn.ReLU(True),\n",
    "        nn.Dropout(drop_rate) ,\n",
    "\n",
    "        nn.MaxPool2d(2, stride=1),  # b, 336, 2, 2\n",
    "        nn.Dropout(drop_rate) ,\n",
    "        )\n",
    "a_de = nn.Sequential(\n",
    "        nn.ConvTranspose2d(336, 672, 6, stride=2, padding=1),  # b, 672, 3, 3\n",
    "        nn.BatchNorm2d(672),\n",
    "        nn.ReLU(True),\n",
    "        nn.ConvTranspose2d(672, 336, 5, stride=2),  # b, 336, 6, 6\n",
    "        nn.BatchNorm2d(336),\n",
    "        nn.ReLU(True),\n",
    "        nn.ConvTranspose2d(336, 84, 5, stride=2),  # b, 84, 12, 12\n",
    "        nn.BatchNorm2d(84),\n",
    "        nn.ReLU(True),\n",
    "        nn.ConvTranspose2d(84, 1, 4, stride=1,padding=2),  # b, 1, 21, 21\n",
    "\n",
    "        # nn.ConvTranspose2d(336, 672, 6, stride=2, padding=1),  # b, 672, 3, 3\n",
    "        # nn.BatchNorm2d(672),\n",
    "        # nn.ReLU(True),\n",
    "        # nn.ConvTranspose2d(672, 336, 4, stride=2),  # b, 336, 6, 6\n",
    "        # nn.BatchNorm2d(336),\n",
    "        # nn.ReLU(True),\n",
    "        # nn.ConvTranspose2d(336, 84, 4, stride=2),  # b, 84, 12, 12\n",
    "        # nn.BatchNorm2d(84),\n",
    "        # nn.ReLU(True),\n",
    "        # nn.ConvTranspose2d(84, 1, 5, stride=1,padding=2),  # b, 1, 21, 21\n",
    "        )"
   ]
  },
  {
   "cell_type": "code",
   "execution_count": 8,
   "metadata": {},
   "outputs": [
    {
     "data": {
      "text/plain": [
       "torch.Size([1, 3, 200, 200])"
      ]
     },
     "execution_count": 8,
     "metadata": {},
     "output_type": "execute_result"
    }
   ],
   "source": [
    "inp = torch.rand((1, 3, 200, 200))\n",
    "inp.shape"
   ]
  },
  {
   "cell_type": "code",
   "execution_count": 9,
   "metadata": {},
   "outputs": [
    {
     "data": {
      "text/plain": [
       "torch.Size([1, 336, 23, 23])"
      ]
     },
     "execution_count": 9,
     "metadata": {},
     "output_type": "execute_result"
    }
   ],
   "source": [
    "mid = a_en(inp)\n",
    "mid.shape   "
   ]
  },
  {
   "cell_type": "code",
   "execution_count": 10,
   "metadata": {},
   "outputs": [
    {
     "data": {
      "text/plain": [
       "torch.Size([1, 1, 200, 200])"
      ]
     },
     "execution_count": 10,
     "metadata": {},
     "output_type": "execute_result"
    }
   ],
   "source": [
    "end = a_de(mid)\n",
    "end.shape"
   ]
  },
  {
   "cell_type": "code",
   "execution_count": null,
   "metadata": {},
   "outputs": [],
   "source": [
    "import numpy as np\n",
    "import matplotlib.pyplot as plt\n",
    "import h5py\n",
    "h5 = h5py.File('./test_1024_mn_1.hdf5', mode='r')\n",
    "input = h5.get('input')\n",
    "output = h5.get('output')\n",
    "print(input.shape)\n",
    "print(output.shape)"
   ]
  },
  {
   "cell_type": "code",
   "execution_count": null,
   "metadata": {},
   "outputs": [],
   "source": [
    "ind_del = []\n",
    "for i in range(output.shape[0]):\n",
    "    if np.max(output[i,0,:,:])==0:\n",
    "        ind_del.append(i)\n",
    "\n",
    "print(len(ind_del))"
   ]
  },
  {
   "cell_type": "code",
   "execution_count": null,
   "metadata": {},
   "outputs": [],
   "source": [
    "input = np.delete(input,np.array(ind_del))\n",
    "output = np.delete(output,np.array(ind_del))"
   ]
  },
  {
   "cell_type": "code",
   "execution_count": null,
   "metadata": {},
   "outputs": [],
   "source": [
    "for i in range(100):\n",
    "    id = np.random.randint(input.shape[0])\n",
    "\n",
    "    plt.figure(figsize=(18, 6), dpi=60)\n",
    "    plt.subplot(1,4,1)\n",
    "    plt.imshow(input[id,0,:,:])\n",
    "    plt.title(f'iter: {int(input[id,2,0,0]*35000)}')\n",
    "    plt.colorbar()\n",
    "    plt.subplot(1,4,2)\n",
    "    plt.imshow(input[id,1,:,:])\n",
    "    plt.title(f'iter: {int(input[id,2,0,0]*35000)}')\n",
    "    plt.colorbar()\n",
    "    plt.subplot(1,4,3)\n",
    "    plt.imshow(input[id,2,:,:])\n",
    "    plt.title(f'iter: {int(input[id,2,0,0]*35000)}')\n",
    "    plt.colorbar()\n",
    "    plt.subplot(1,4,4)\n",
    "    plt.imshow(output[id,0,:,:])\n",
    "    plt.title(f'iter: {int(input[id,2,0,0]*35000)}')\n",
    "    plt.colorbar()\n",
    "    # plt.show()\n",
    "    plt.savefig(f'./tmp_check/{i}.png')"
   ]
  }
 ],
 "metadata": {
  "kernelspec": {
   "display_name": "Python 3.10.6 ('pytorch')",
   "language": "python",
   "name": "python3"
  },
  "language_info": {
   "codemirror_mode": {
    "name": "ipython",
    "version": 3
   },
   "file_extension": ".py",
   "mimetype": "text/x-python",
   "name": "python",
   "nbconvert_exporter": "python",
   "pygments_lexer": "ipython3",
   "version": "3.10.6"
  },
  "orig_nbformat": 4,
  "vscode": {
   "interpreter": {
    "hash": "5a74f7fa8908cddf18a5beec7475b3e3ccc4faacde857555ac93d5a530c396ff"
   }
  }
 },
 "nbformat": 4,
 "nbformat_minor": 2
}
