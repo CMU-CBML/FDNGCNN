{
 "cells": [
  {
   "cell_type": "markdown",
   "metadata": {
    "collapsed": true,
    "pycharm": {
     "name": "#%% md\n"
    }
   },
   "source": [
    "# Improved balance data\n"
   ]
  },
  {
   "cell_type": "code",
   "execution_count": null,
   "metadata": {},
   "outputs": [],
   "source": [
    "import numpy as np\n",
    "from dataset import H5Dataset\n",
    "import matplotlib.pyplot as plt\n",
    "\n",
    "dataset = H5Dataset('../dataset_for_ML/NG_all_CNN_restructured_cleaned_10262022.hdf5')\n",
    "\n",
    "x = dataset.data\n",
    "y = dataset.target\n",
    "print(f'data shape: {x.shape} | target shape: {y.shape}')\n",
    "\n",
    "for i in range(1):\n",
    "    id = np.random.randint(x.shape[0])\n",
    "    plt.figure(figsize=(20, 4), dpi=80)\n",
    "    plt.subplot(1,4,1)\n",
    "    plt.imshow(x[id,0,...],cmap = \"jet\")\n",
    "    plt.title(id)\n",
    "    plt.colorbar()\n",
    "    plt.subplot(1,4,2)\n",
    "    plt.imshow(x[id,1,...],cmap = \"jet\")\n",
    "    plt.colorbar()\n",
    "    plt.subplot(1,4,3)\n",
    "    plt.imshow(x[id,2,...],cmap = \"jet\")\n",
    "    plt.colorbar()\n",
    "    plt.subplot(1,4,4)\n",
    "    plt.imshow(y[id,0,...],cmap = \"jet\")\n",
    "    plt.colorbar()\n",
    "    "
   ]
  },
  {
   "cell_type": "code",
   "execution_count": null,
   "metadata": {
    "pycharm": {
     "name": "#%%\n"
    }
   },
   "outputs": [],
   "source": [
    "import torch\n",
    "import torch.nn as nn\n",
    "import torch.optim as optim\n",
    "from torch.utils import data\n",
    "from torch.utils.data.sampler import SubsetRandomSampler\n",
    "\n",
    "import numpy as np\n",
    "import data\n",
    "from dataset import rdDataset_old\n",
    "from dataset import H5Dataset\n",
    "from model import rdcnn_2_larger\n",
    "from math import log10\n",
    "\n",
    "from tqdm import tqdm\n",
    "\n",
    "# CUDA for PyTorch\n",
    "use_cuda = torch.cuda.is_available()\n",
    "device = torch.device(\"cuda:0\" if use_cuda else \"cpu\")\n",
    "# cudnn.benchmark = True\n",
    "path = './data'\n",
    "\n",
    "# Parameters\n",
    "\n",
    "params = {'test_split': .25,\n",
    "          'shuffle_dataset': True,\n",
    "          'batchsize': 96,\n",
    "          'testBatchsize': 96,\n",
    "          'random_seed': 42,\n",
    "          'numworkers':0,\n",
    "          'pinmemory':True}\n",
    "    \n",
    "max_epoches = 100\n",
    "learning_rate = 1e-4\n",
    "drop_rate = 0.0\n",
    "\n",
    "print('===> Loading datasets')\n",
    "# Load All Dataset\n",
    "\n",
    "# Creating data indices for training and validation splits:\n",
    "training_data_loader, testing_data_loader = data.DatasetSplit(dataset, **params)\n",
    "\n",
    "print('===> Building model')\n",
    "model = rdcnn_2_larger(drop_rate).to(device)\n",
    "# criterion = nn.MSELoss()\n",
    "criterion = nn.BCEWithLogitsLoss()\n",
    "optimizer = torch.optim.Adam(model.parameters(), lr=learning_rate,weight_decay=1e-5)\n",
    "\n",
    "m = nn.Sigmoid()\n",
    "\n",
    "def train(epoch):\n",
    "    epoch_loss = 0\n",
    "    for iteration, batch in enumerate(tqdm(training_data_loader), 1):\n",
    "        input, target = batch[0].to(device, torch.float), batch[1].to(device, torch.float)\n",
    "        optimizer.zero_grad()\n",
    "        loss = criterion(model(input), target)\n",
    "        epoch_loss += loss.item()\n",
    "        loss.backward()\n",
    "        optimizer.step()\n",
    "    print(\"===> Epoch {} Complete: Avg. Loss: {:.4f}\".format(epoch, epoch_loss / len(training_data_loader)))\n",
    "    return epoch, epoch_loss / len(training_data_loader)\n",
    "    \n",
    "def test():\n",
    "    avg_error = 0\n",
    "    avg_loss = 0\n",
    "    with torch.no_grad():\n",
    "        for batch in tqdm(testing_data_loader):\n",
    "            input, target = batch[0].to(device, torch.float), batch[1].to(device, torch.float)\n",
    "\n",
    "            prediction = model(input)\n",
    "            tmp_error = 0\n",
    "            for j in range(len(prediction)):\n",
    "                tmp_error += torch.sqrt(torch.mean((m(prediction[j])-target[j])**2))/torch.max(target[j])\n",
    "            avg_error += tmp_error / len(prediction)\n",
    "            mse = criterion(prediction, target)\n",
    "            avg_loss += mse\n",
    "    print(\"===> Avg. Loss: {:.4f} \".format(avg_loss / len(testing_data_loader)))\n",
    "    print(\"===> Avg. Error: {:.4f} \".format(avg_error / len(testing_data_loader)))\n",
    "    return avg_loss / len(testing_data_loader),avg_error / len(testing_data_loader)\n",
    "\n",
    "def checkpoint(epoch):\n",
    "    model_out_path = \"./checkpoint_3channel_allNeuron_BCE/model_epoch_{}.pth\".format(epoch)\n",
    "    torch.save(model, model_out_path)\n",
    "    print(\"Checkpoint saved to {}\".format(model_out_path))\n",
    "    \n",
    "model.eval()  "
   ]
  },
  {
   "cell_type": "code",
   "execution_count": null,
   "metadata": {
    "pycharm": {
     "name": "#%%\n"
    }
   },
   "outputs": [],
   "source": [
    "L_train_loss = []\n",
    "L_test_loss = []\n",
    "L_test_error = []\n",
    "for epoch in range(1, max_epoches + 1):\n",
    "    train_loss = train(epoch)\n",
    "    test_loss,test_error = test()\n",
    "    checkpoint(epoch)\n",
    "    L_train_loss.append(train_loss)\n",
    "    L_test_loss.append(test_loss)\n",
    "    L_test_error.append(test_error)\n",
    "    print(f'###############################################################')"
   ]
  },
  {
   "cell_type": "code",
   "execution_count": null,
   "metadata": {},
   "outputs": [],
   "source": [
    "# model = torch.load('./checkpoint_3channel_allNeuron_BCE_10272022/model_epoch_100.pth')\n",
    "# model.eval()"
   ]
  },
  {
   "cell_type": "code",
   "execution_count": null,
   "metadata": {},
   "outputs": [],
   "source": [
    "# features_in_hook = []\n",
    "# features_out_hook = []\n",
    "\n",
    "# def hook(module, fea_in, fea_out):\n",
    "#     features_in_hook.append(fea_in)\n",
    "#     features_out_hook.append(fea_out)\n",
    "#     return None\n",
    "\n",
    "# # model = rdcnn_2_larger()\n",
    "\n",
    "# layer_name = ['encoder.0','encoder.9','encoder.13', 'decoder.0', 'decoder.3','decoder.6','decoder.9']\n",
    "# for (name, module) in model.named_modules():\n",
    "#     # print(name)\n",
    "#     if name in layer_name:\n",
    "#         # print(name)\n",
    "#         module.register_forward_hook(hook=hook)\n",
    "\n",
    "# train_loss = train(1)"
   ]
  },
  {
   "cell_type": "code",
   "execution_count": null,
   "metadata": {},
   "outputs": [],
   "source": [
    "# print(len(features_out_hook))\n",
    "# for i in range(len(features_out_hook)):\n",
    "#     tmp = features_out_hook[i].detach().cpu().numpy()\n",
    "#     print(tmp.shape)\n",
    "#     plt.figure(figsize=(12, 10), dpi=60)\n",
    "#     plt.imshow(tmp[0,0,:,:],cmap='jet')\n",
    "#     plt.colorbar()\n",
    "#     plt.savefig(f'./Figure/hook{i}.png')\n",
    "#     # plt.show()\n",
    "\n",
    "# m = nn.Sigmoid()\n",
    "# plt.figure(figsize=(12, 10), dpi=60)\n",
    "# plt.imshow(m(torch.tensor(tmp[0,0,:,:])).detach().cpu().numpy(),cmap='jet')\n",
    "# plt.colorbar()\n",
    "# plt.savefig(f'./Figure/hook_sigmoid.png')"
   ]
  },
  {
   "cell_type": "code",
   "execution_count": null,
   "metadata": {
    "pycharm": {
     "name": "#%%\n"
    }
   },
   "outputs": [],
   "source": [
    "import data\n",
    "import importlib \n",
    "importlib.reload(data)\n",
    "data.TestErrorPlot(model,device, testing_data_loader)"
   ]
  },
  {
   "cell_type": "code",
   "execution_count": null,
   "metadata": {
    "pycharm": {
     "name": "#%%\n"
    }
   },
   "outputs": [],
   "source": [
    "from matplotlib import pyplot as plt\n",
    "prediction_L = []\n",
    "input_L = []\n",
    "target_L = []\n",
    "i=0\n",
    "\n",
    "with torch.no_grad():\n",
    "    for batch in testing_data_loader:\n",
    "        input, target = batch[0].to(device, torch.float), batch[1].to(device, torch.float)\n",
    "        input_L.append(input)\n",
    "        target_L.append(target)\n",
    "        prediction = m(model(input))\n",
    "        # prediction = model(input)\n",
    "        prediction_L.append(prediction)\n",
    "        i = i+1\n",
    "        if i==10:\n",
    "            break"
   ]
  },
  {
   "cell_type": "code",
   "execution_count": null,
   "metadata": {
    "pycharm": {
     "name": "#%%\n"
    }
   },
   "outputs": [],
   "source": [
    "for i in range(1):\n",
    "    input = input_L[i].cpu().numpy()\n",
    "    target = target_L[i]\n",
    "    fig, ax = plt.subplots(1,5, figsize=(20,5))\n",
    "    for t in range(5):\n",
    "        im = ax[t].imshow(target[t][0].cpu(),cmap = \"jet\")\n",
    "        ax[t].axis('off')\n",
    "        # ax[t].set_title(\"iteration = \"+str(input[t,2,0,0]),size=10)\n",
    "\n",
    "    fig.subplots_adjust(right=0.8)\n",
    "    cbar_ax = fig.add_axes([0.84, 0.27, 0.01, 0.47])\n",
    "    fig.colorbar(im, cax=cbar_ax)\n",
    "    \n",
    "    fig, ax = plt.subplots(1,5, figsize=(20,5))\n",
    "    for t in range(5,10):\n",
    "        im = ax[t-5].imshow(target[t][0].cpu(),cmap = \"jet\")\n",
    "        ax[t-5].axis('off')\n",
    "        # ax[t-5].set_title(\"iteration = \"+str(input[t,2,0,0]),size=10)\n",
    "    fig.subplots_adjust(right=0.8)\n",
    "    cbar_ax = fig.add_axes([0.84, 0.27, 0.01, 0.47])\n",
    "    fig.colorbar(im, cax=cbar_ax)\n",
    "\n",
    "\n",
    "plt.show()"
   ]
  },
  {
   "cell_type": "code",
   "execution_count": null,
   "metadata": {
    "pycharm": {
     "name": "#%%\n"
    }
   },
   "outputs": [],
   "source": [
    "for i in range(1):\n",
    "    input = input_L[i].cpu().numpy()\n",
    "    prediction = prediction_L[i]\n",
    "    fig, ax = plt.subplots(1,5, figsize=(20,5))\n",
    "    for t in range(5):\n",
    "        im = ax[t].imshow(prediction[t][0].cpu(),cmap = \"jet\")\n",
    "        ax[t].axis('off')\n",
    "        # ax[t].set_title(\"iteration = \"+str(input[t,2,0,0]),size=10)\n",
    "    fig.subplots_adjust(right=0.8)\n",
    "    cbar_ax = fig.add_axes([0.84, 0.27, 0.01, 0.47])\n",
    "    fig.colorbar(im, cax=cbar_ax)\n",
    "    \n",
    "    fig, ax = plt.subplots(1,5, figsize=(20,5))\n",
    "    for t in range(5,10):\n",
    "        im = ax[t-5].imshow(prediction[t][0].cpu(),cmap = \"jet\")\n",
    "        ax[t-5].axis('off')\n",
    "        # ax[t-5].set_title(\"iteration = \"+str(input[t,2,0,0]),size=10)\n",
    "    fig.subplots_adjust(right=0.8)\n",
    "    cbar_ax = fig.add_axes([0.84, 0.27, 0.01, 0.47])\n",
    "    fig.colorbar(im, cax=cbar_ax)\n",
    "\n",
    "\n",
    "plt.show()"
   ]
  },
  {
   "cell_type": "code",
   "execution_count": null,
   "metadata": {
    "pycharm": {
     "name": "#%%\n"
    }
   },
   "outputs": [],
   "source": [
    "for i in range(1):\n",
    "    input = input_L[i].cpu().numpy()\n",
    "    target = target_L[i]\n",
    "    prediction = prediction_L[i]\n",
    "    for t in range(5):\n",
    "        plt.figure(figsize=(20, 4), dpi=80)\n",
    "        plt.subplot(1,5,1)\n",
    "        plt.imshow(input[t][0],cmap = \"jet\")\n",
    "        plt.colorbar()\n",
    "        plt.title(\"Input Phi\")  \n",
    "        plt.subplot(1,5,2)\n",
    "        plt.imshow(input[t][1],cmap = \"jet\")\n",
    "        plt.colorbar()\n",
    "        plt.title(\"Input theta\")  \n",
    "        plt.subplot(1,5,3)\n",
    "        plt.imshow(input[t][2],cmap = \"jet\")\n",
    "        plt.colorbar()\n",
    "        plt.title(f'Input iteration {input[t,2,0,0]}')  \n",
    "        plt.subplot(1,5,4)\n",
    "        plt.imshow(prediction[t][0].cpu(),cmap = \"jet\")\n",
    "        plt.colorbar()\n",
    "        plt.title(\"Prediction\")    \n",
    "        plt.subplot(1,5,5)\n",
    "        plt.imshow(target[t][0].cpu(),cmap = \"jet\")\n",
    "        plt.colorbar()\n",
    "        plt.title(\"Ground Truth Phi\")    \n",
    "    plt.show()"
   ]
  },
  {
   "cell_type": "code",
   "execution_count": null,
   "metadata": {},
   "outputs": [],
   "source": [
    "from data import ComputeTestError\n",
    "dataset = H5Dataset('../dataset_for_ML/NG_all_CNN_restructured_10262022.hdf5')\n",
    "print(f'dataset shape: {dataset.data.shape} | target shape: {dataset.data.shape}')"
   ]
  },
  {
   "cell_type": "code",
   "execution_count": null,
   "metadata": {},
   "outputs": [],
   "source": [
    "id = np.random.randint(182)*345\n",
    "for j in range(182):\n",
    "    id = j*345\n",
    "# id = 6900\n",
    "    print(f'picked rand data: {id}')\n",
    "    input_1 = dataset.data[id,:,:,:]\n",
    "    target_1 = dataset.target[id,0,:,:]\n",
    "    # input_1[1,:,:] = np.random.rand(200,200)\n",
    "\n",
    "    plt.figure(figsize=(30, 7), dpi=100)\n",
    "    cols = 6\n",
    "    plt_itvl = 6800\n",
    "    for i in range(cols):\n",
    "\n",
    "        with torch.no_grad():\n",
    "            prediction_1 = m(model(torch.tensor(np.expand_dims(input_1,axis=0)).to(device, torch.float)))\n",
    "            prediction_1=prediction_1.cpu()\n",
    "            err = ComputeTestError(prediction_1[0,0,:,:].cpu(),torch.tensor(target_1).cpu())\n",
    "            \n",
    "        plt.subplot(2,cols,i+1)\n",
    "        plt.imshow(prediction_1[0,0,:,:].numpy(),cmap='jet')\n",
    "        plt.title(f'Prediction at iter {int(input_1[2,0,0]*35000)}')\n",
    "        plt.colorbar()\n",
    "        plt.subplot(2,cols,cols+i+1)\n",
    "        plt.imshow(target_1,cmap='jet')\n",
    "        plt.title(f'Ground truth at iter {int(input_1[2,0,0]*35000)}')\n",
    "        plt.xlabel(f'MRE: {err*100:.2f}%')\n",
    "        plt.colorbar()\n",
    "\n",
    "        iterations = ((i+1)*plt_itvl)\n",
    "        id += int(plt_itvl/100)\n",
    "\n",
    "        input_1[2,:,:] = np.ones(input_1[2,:,:].shape)*iterations/35000\n",
    "        target_1 = dataset.target[id,0,:,:]\n",
    "\n",
    "    plt.savefig(f'./Figure/batchGen/results_bce_{j}.png')\n",
    "    # plt.savefig('./Figure/results_bce_205.png')\n",
    "    # plt.show()  "
   ]
  },
  {
   "cell_type": "code",
   "execution_count": null,
   "metadata": {},
   "outputs": [],
   "source": []
  }
 ],
 "metadata": {
  "kernelspec": {
   "display_name": "Python 3.10.6 ('pytorch')",
   "language": "python",
   "name": "python3"
  },
  "language_info": {
   "codemirror_mode": {
    "name": "ipython",
    "version": 3
   },
   "file_extension": ".py",
   "mimetype": "text/x-python",
   "name": "python",
   "nbconvert_exporter": "python",
   "pygments_lexer": "ipython3",
   "version": "3.10.6"
  },
  "pycharm": {
   "stem_cell": {
    "cell_type": "raw",
    "metadata": {
     "collapsed": false
    },
    "source": []
   }
  },
  "vscode": {
   "interpreter": {
    "hash": "5a74f7fa8908cddf18a5beec7475b3e3ccc4faacde857555ac93d5a530c396ff"
   }
  }
 },
 "nbformat": 4,
 "nbformat_minor": 1
}
